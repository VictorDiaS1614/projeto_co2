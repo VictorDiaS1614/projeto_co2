{
  "nbformat": 4,
  "nbformat_minor": 0,
  "metadata": {
    "colab": {
      "private_outputs": true,
      "provenance": [],
      "authorship_tag": "ABX9TyOEDBX6niNHrJjJ7/a9q7+x",
      "include_colab_link": true
    },
    "kernelspec": {
      "name": "python3",
      "display_name": "Python 3"
    },
    "language_info": {
      "name": "python"
    }
  },
  "cells": [
    {
      "cell_type": "markdown",
      "metadata": {
        "id": "view-in-github",
        "colab_type": "text"
      },
      "source": [
        "<a href=\"https://colab.research.google.com/github/VictorDiaS1614/projeto_co2/blob/main/projeto_co2.ipynb\" target=\"_parent\"><img src=\"https://colab.research.google.com/assets/colab-badge.svg\" alt=\"Open In Colab\"/></a>"
      ]
    },
    {
      "cell_type": "code",
      "execution_count": null,
      "metadata": {
        "id": "7dZth5bCBZNe"
      },
      "outputs": [],
      "source": [
        "import pandas as pd"
      ]
    },
    {
      "cell_type": "code",
      "source": [
        "url = \"https://github.com/VictorDiaS1614/projeto_co2/blob/main/base_dados_co2_br.xlsx?raw=True\""
      ],
      "metadata": {
        "id": "Mp6-VoAIBilh"
      },
      "execution_count": null,
      "outputs": []
    },
    {
      "cell_type": "code",
      "source": [
        "df_co2 = pd.read_excel(url)"
      ],
      "metadata": {
        "id": "Dx1aGJC4B7ga"
      },
      "execution_count": null,
      "outputs": []
    },
    {
      "cell_type": "code",
      "source": [
        "pd.ExcelFile(url).sheet_names"
      ],
      "metadata": {
        "id": "017LgnnXDJMH"
      },
      "execution_count": null,
      "outputs": []
    },
    {
      "cell_type": "code",
      "source": [],
      "metadata": {
        "id": "sFmJbN32FTgN"
      },
      "execution_count": null,
      "outputs": []
    }
  ]
}